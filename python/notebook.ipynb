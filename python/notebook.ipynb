{
 "cells": [
  {
   "cell_type": "code",
   "execution_count": 1,
   "id": "f2a1d873",
   "metadata": {},
   "outputs": [],
   "source": [
    "import pandas as pd\n",
    "from itertools import combinations\n",
    "from tqdm.auto import tqdm\n",
    "islice = pd.IndexSlice"
   ]
  },
  {
   "cell_type": "code",
   "execution_count": 2,
   "id": "fe31ae96",
   "metadata": {},
   "outputs": [],
   "source": [
    "data = pd.read_json('../data/data-small.json')\n",
    "q_to_score = data.set_index(['question', 'user'])\n",
    "avgs = data.groupby('user').score.sum().rename('avg')"
   ]
  },
  {
   "cell_type": "code",
   "execution_count": 3,
   "id": "2459e9a8",
   "metadata": {},
   "outputs": [
    {
     "data": {
      "application/vnd.jupyter.widget-view+json": {
       "model_id": "84997900538e4add9ccdbf375bbc9917",
       "version_major": 2,
       "version_minor": 0
      },
      "text/plain": [
       "  0%|          | 0/15504 [00:00<?, ?it/s]"
      ]
     },
     "metadata": {},
     "output_type": "display_data"
    }
   ],
   "source": [
    "all_qs = list(data.question.unique())\n",
    "K = 5\n",
    "corrs = []\n",
    "for qs in tqdm(list(combinations(all_qs, K))):\n",
    "    qs_data = q_to_score.loc[islice[qs,:],:].swaplevel()\n",
    "    answered_all = qs_data.groupby(level=[0]).size() == K\n",
    "    answered_all = answered_all[answered_all].index\n",
    "    qs_total = qs_data.loc[islice[answered_all,:]].groupby(level=[0]).sum().rename(columns={'score': 'qs'})\n",
    "    r = qs_total.join(avgs).corr().qs.avg\n",
    "    corrs.append({'qs': qs, 'r': r})"
   ]
  }
 ],
 "metadata": {
  "kernelspec": {
   "display_name": "Python 3 (ipykernel)",
   "language": "python",
   "name": "python3"
  },
  "language_info": {
   "codemirror_mode": {
    "name": "ipython",
    "version": 3
   },
   "file_extension": ".py",
   "mimetype": "text/x-python",
   "name": "python",
   "nbconvert_exporter": "python",
   "pygments_lexer": "ipython3",
   "version": "3.9.17"
  }
 },
 "nbformat": 4,
 "nbformat_minor": 5
}
